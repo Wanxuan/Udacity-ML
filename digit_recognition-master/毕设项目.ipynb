{
 "cells": [
  {
   "cell_type": "markdown",
   "metadata": {},
   "source": [
    "# 毕设项目：驾驶员状态检测"
   ]
  },
  {
   "cell_type": "markdown",
   "metadata": {},
   "source": [
    "使用深度学习方法检测驾驶员的状态。  \n",
    "\n",
    "**输入：**一张彩色图片  \n",
    "**输出：**十种状态的概率  \n",
    "\n",
    "### 状态列表：  \n",
    "* c0: 安全驾驶\n",
    "* c1: 右手打字\n",
    "* c2: 右手打电话\n",
    "* c3: 左手打字\n",
    "* c4: 左手打电话\n",
    "* c5: 调收音机\n",
    "* c6: 喝饮料\n",
    "* c7: 拿后面的东西\n",
    "* c8: 整理头发和化妆\n",
    "* c9: 和其他乘客说话"
   ]
  },
  {
   "cell_type": "markdown",
   "metadata": {},
   "source": [
    "### 可视化数据集\n",
    "导入数据集，通过 matplotlib 来可视化我们的原始数据集。"
   ]
  },
  {
   "cell_type": "markdown",
   "metadata": {},
   "source": []
  },
  {
   "cell_type": "code",
   "execution_count": 24,
   "metadata": {
    "collapsed": false
   },
   "outputs": [
    {
     "name": "stdout",
     "output_type": "stream",
     "text": [
      "[[1 2 3 0]\n",
      " [3 4 5 0]\n",
      " [5 6 7 0]]\n",
      "(3, 4)\n"
     ]
    }
   ],
   "source": [
    "import random\n",
    "import numpy as np\n",
    "\n",
    ">>> a = np.array((1,2,3))  \n",
    ">>> b = np.array((2,3,4))  \n",
    ">>> np.dstack((a,b))  \n",
    "array([[[1, 2],  \n",
    "        [2, 3],  \n",
    "        [3, 4]]]) \n",
    "\n",
    "for i in range(10):\n",
    "    b = [[i,i],[i,i]]\n",
    "    a.append(b)\n",
    "r = random.sample(a,5)\n",
    "# print r\n",
    "p = np.array([ [1,2,3] , [3,4,5] , [5,6,7]])\n",
    "z = np.zeros((3, 1), dtype=p.dtype)\n",
    "x = np.concatenate((p, z), axis=1)\n",
    "print x\n",
    "print x.shape"
   ]
  },
  {
   "cell_type": "markdown",
   "metadata": {},
   "source": []
  },
  {
   "cell_type": "code",
   "execution_count": null,
   "metadata": {
    "collapsed": true
   },
   "outputs": [],
   "source": []
  }
 ],
 "metadata": {
  "kernelspec": {
   "display_name": "Python 2",
   "language": "python",
   "name": "python2"
  },
  "language_info": {
   "codemirror_mode": {
    "name": "ipython",
    "version": 2
   },
   "file_extension": ".py",
   "mimetype": "text/x-python",
   "name": "python",
   "nbconvert_exporter": "python",
   "pygments_lexer": "ipython2",
   "version": "2.7.10"
  }
 },
 "nbformat": 4,
 "nbformat_minor": 0
}
